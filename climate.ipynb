{
 "cells": [
  {
   "cell_type": "code",
   "execution_count": 1,
   "metadata": {},
   "outputs": [],
   "source": [
    "%matplotlib inline\n",
    "from matplotlib import style\n",
    "style.use('fivethirtyeight')\n",
    "import matplotlib.pyplot as plt\n",
    "import matplotlib.dates as mdates"
   ]
  },
  {
   "cell_type": "code",
   "execution_count": 2,
   "metadata": {},
   "outputs": [],
   "source": [
    "import numpy as np\n",
    "import pandas as pd"
   ]
  },
  {
   "cell_type": "code",
   "execution_count": 3,
   "metadata": {},
   "outputs": [],
   "source": [
    "import datetime\n",
    "plot_out_dir = \"Images/\""
   ]
  },
  {
   "cell_type": "markdown",
   "metadata": {},
   "source": [
    "# Reflect Tables into SQLAlchemy ORM"
   ]
  },
  {
   "cell_type": "code",
   "execution_count": 4,
   "metadata": {},
   "outputs": [],
   "source": [
    "# Python SQL toolkit and Object Relational Mapper\n",
    "import sqlalchemy\n",
    "from sqlalchemy.ext.automap import automap_base\n",
    "from sqlalchemy.orm import Session\n",
    "from sqlalchemy import create_engine, func, inspect, cast, Numeric"
   ]
  },
  {
   "cell_type": "code",
   "execution_count": 5,
   "metadata": {},
   "outputs": [],
   "source": [
    "engine = create_engine(\"sqlite:///Resources/hawaii.sqlite\")"
   ]
  },
  {
   "cell_type": "code",
   "execution_count": 6,
   "metadata": {},
   "outputs": [],
   "source": [
    "# reflect an existing database into a new model\n",
    "Base = automap_base()\n",
    "\n",
    "# reflect the tables\n",
    "Base.prepare(engine, reflect=True)"
   ]
  },
  {
   "cell_type": "code",
   "execution_count": 7,
   "metadata": {},
   "outputs": [
    {
     "data": {
      "text/plain": [
       "['measurement', 'station']"
      ]
     },
     "execution_count": 7,
     "metadata": {},
     "output_type": "execute_result"
    }
   ],
   "source": [
    "# We can view all of the classes that automap found\n",
    "Base.classes.keys()"
   ]
  },
  {
   "cell_type": "code",
   "execution_count": null,
   "metadata": {},
   "outputs": [],
   "source": [
    "# Measurement = engine.execute(\"select * from measurement\")\n",
    "# print(f\"Measurement Col.:{Measurement.keys()}\")\n",
    "# Station = engine.execute(\"select * from station\")\n",
    "# print(f\"Station Col.: {Station.keys()}\")\n",
    "# inspector = inspect(engine)\n",
    "# col = inspector.get_columns('Measurement')\n",
    "# for c in col:\n",
    "#     print(c[\"name\"], c[\"type\"])"
   ]
  },
  {
   "cell_type": "code",
   "execution_count": 7,
   "metadata": {},
   "outputs": [],
   "source": [
    "# Save references to each table\n",
    "Station, Measurement = Base.classes.station, Base.classes.measurement"
   ]
  },
  {
   "cell_type": "code",
   "execution_count": 8,
   "metadata": {},
   "outputs": [],
   "source": [
    "# Create our session (link) from Python to the DB\n",
    "session = Session(engine)\n",
    "# q1 = session.query(Station).first()\n",
    "# print(q1.__dict__)\n",
    "# q2 = session.query(Measurement).first()\n",
    "# print(q2.__dict__)"
   ]
  },
  {
   "cell_type": "code",
   "execution_count": 10,
   "metadata": {},
   "outputs": [],
   "source": [
    "# pdcon = engine.connect()\n",
    "# Mea_pd = pd.read_sql(\"select * from measurement\",pdcon)\n",
    "# Mea_pd.head()\n",
    "# Sta_pd = pd.read_sql(\"select * from station\",pdcon)\n",
    "# Sta_pd.head()"
   ]
  },
  {
   "cell_type": "markdown",
   "metadata": {},
   "source": [
    "# Exploratory Climate Analysis"
   ]
  },
  {
   "cell_type": "code",
   "execution_count": 11,
   "metadata": {},
   "outputs": [],
   "source": [
    "# Design a query to retrieve the last 12 months of precipitation data and plot the results\n",
    "\n",
    "# Calculate the date 1 year ago from the last data point in the database\n",
    "\n",
    "# Perform a query to retrieve the data and precipitation scores\n",
    "\n",
    "# Save the query results as a Pandas DataFrame and set the index to the date column\n",
    "\n",
    "# Sort the dataframe by date\n",
    "\n",
    "# Use Pandas Plotting with Matplotlib to plot the data\n"
   ]
  },
  {
   "cell_type": "code",
   "execution_count": 9,
   "metadata": {},
   "outputs": [
    {
     "name": "stdout",
     "output_type": "stream",
     "text": [
      "('2017-08-23',)\n",
      "2017-08-23\n",
      "2016-08-23 00:00:00 2017-08-23 00:00:00\n"
     ]
    }
   ],
   "source": [
    "# finding out max date from the database...\n",
    "#\n",
    "mdt = session.query(func.max(Measurement.date)).one()\n",
    "print(mdt)\n",
    "maxdt = mdt[0]\n",
    "# dt1 = session.query(func.max(Measurement.date)).scalar()\n",
    "print(maxdt)\n",
    "# finding out from date and to date for the last year\n",
    "todt = datetime.datetime.strptime(maxdt, \"%Y-%m-%d\")\n",
    "frdt = todt - datetime.timedelta(days=365)\n",
    "print(frdt, todt)"
   ]
  },
  {
   "cell_type": "code",
   "execution_count": 13,
   "metadata": {},
   "outputs": [],
   "source": [
    "# # this brings only 1397 rows ... need to convert to date format...\n",
    "# to_date = '{todt.year}-{todt.month}-{todt.day}'.format(todt = datetime.datetime.strptime(maxdt, \"%Y-%m-%d\"))\n",
    "# fr_date = '{frdt.year}-{frdt.month}-{frdt.day}'.format(frdt = todt - datetime.timedelta(days=366))\n",
    "# print(fr_date, to_date)\n",
    "# result = session.query(Measurement.date,Measurement.prcp).\\\n",
    "#     filter(Measurement.date >= fr_date, Measurement.date <= to_date).all()\n",
    "# cnt = 0\n",
    "# for row in result:\n",
    "# #     print(row)\n",
    "#     cnt = cnt +1\n",
    "# print(cnt)"
   ]
  },
  {
   "cell_type": "code",
   "execution_count": 14,
   "metadata": {},
   "outputs": [],
   "source": [
    "# query brings 2230 rows...\n",
    "# results = session.query(Measurement.date,Measurement.prcp).\\\n",
    "#     filter(func.DATE(Measurement.date) >= func.DATE(frdt), func.DATE(Measurement.date) <= func.DATE(todt)).all()\n",
    "#\n",
    "# print(len(results))"
   ]
  },
  {
   "cell_type": "code",
   "execution_count": 10,
   "metadata": {},
   "outputs": [],
   "source": [
    "# creating a dataframe for the past 12 months data...  Total 2230 rows...\n",
    "stmt = session.query(Measurement.date,Measurement.prcp).\\\n",
    "    filter(func.DATE(Measurement.date) >= func.DATE(frdt), \\\n",
    "           func.DATE(Measurement.date) <= func.DATE(todt)).statement\n",
    "df = pd.read_sql_query(stmt, session.bind)\n",
    "# df.head()"
   ]
  },
  {
   "cell_type": "code",
   "execution_count": 11,
   "metadata": {},
   "outputs": [
    {
     "data": {
      "text/html": [
       "<div>\n",
       "<style scoped>\n",
       "    .dataframe tbody tr th:only-of-type {\n",
       "        vertical-align: middle;\n",
       "    }\n",
       "\n",
       "    .dataframe tbody tr th {\n",
       "        vertical-align: top;\n",
       "    }\n",
       "\n",
       "    .dataframe thead th {\n",
       "        text-align: right;\n",
       "    }\n",
       "</style>\n",
       "<table border=\"1\" class=\"dataframe\">\n",
       "  <thead>\n",
       "    <tr style=\"text-align: right;\">\n",
       "      <th></th>\n",
       "      <th>prcp</th>\n",
       "    </tr>\n",
       "    <tr>\n",
       "      <th>date</th>\n",
       "      <th></th>\n",
       "    </tr>\n",
       "  </thead>\n",
       "  <tbody>\n",
       "    <tr>\n",
       "      <th>2016-08-23</th>\n",
       "      <td>0.00</td>\n",
       "    </tr>\n",
       "    <tr>\n",
       "      <th>2016-08-23</th>\n",
       "      <td>0.02</td>\n",
       "    </tr>\n",
       "    <tr>\n",
       "      <th>2016-08-23</th>\n",
       "      <td>0.05</td>\n",
       "    </tr>\n",
       "    <tr>\n",
       "      <th>2016-08-23</th>\n",
       "      <td>0.70</td>\n",
       "    </tr>\n",
       "    <tr>\n",
       "      <th>2016-08-23</th>\n",
       "      <td>0.15</td>\n",
       "    </tr>\n",
       "  </tbody>\n",
       "</table>\n",
       "</div>"
      ],
      "text/plain": [
       "            prcp\n",
       "date            \n",
       "2016-08-23  0.00\n",
       "2016-08-23  0.02\n",
       "2016-08-23  0.05\n",
       "2016-08-23  0.70\n",
       "2016-08-23  0.15"
      ]
     },
     "execution_count": 11,
     "metadata": {},
     "output_type": "execute_result"
    }
   ],
   "source": [
    "# cleansing the data and sorting by date...  Total 2021 rows....\n",
    "df2 = df.dropna(how='any').set_index(['date'])\n",
    "sorted_df = df2.sort_values(['date'])\n",
    "sorted_df.head()"
   ]
  },
  {
   "cell_type": "code",
   "execution_count": 12,
   "metadata": {},
   "outputs": [
    {
     "data": {
      "image/png": "[encoded data removed]",
      "text/plain": [
       "<Figure size 864x648 with 1 Axes>"
      ]
     },
     "metadata": {},
     "output_type": "display_data"
    }
   ],
   "source": [
    "# Use Pandas Plotting with Matplotlib to plot the data\n",
    "import matplotlib.ticker as plticker\n",
    "pfile = 'prcp.png'\n",
    "fig, ax = plt.subplots(figsize=(12,9))\n",
    "sorted_df.columns = ['precipitation']\n",
    "ax.bar(sorted_df.index.values, sorted_df.precipitation, width=1.5, align='center')\n",
    "plt.xlim(sorted_df.index.min(), sorted_df.index.max())\n",
    "plt.legend(sorted_df.columns, loc='best')\n",
    "loc = plticker.MultipleLocator(base=39.0) # this locator puts ticks at regular intervals\n",
    "ax.xaxis.set_major_locator(loc)\n",
    "plt.xticks(rotation=90)\n",
    "plt.xlabel('Date')\n",
    "plt.ylabel('Inches')\n",
    "# plt.legend('precipitation', loc='best')\n",
    "# locator = mdates.AutoDateLocator()\n",
    "# # locator.intervald[]\n",
    "# formatter = mdates.DateFormatter('%Y-%m-%d')\n",
    "# ax.xaxis.set_major_locator(locator)\n",
    "# ax.xaxis.set_major_formatter(formatter)\n",
    "# xaxis.get_xmajorticklabels()\n",
    "plt.tight_layout()\n",
    "plt.savefig(plot_out_dir + pfile)\n",
    "plt.show()"
   ]
  },
  {
   "cell_type": "code",
   "execution_count": 13,
   "metadata": {},
   "outputs": [
    {
     "data": {
      "text/html": [
       "<div>\n",
       "<style scoped>\n",
       "    .dataframe tbody tr th:only-of-type {\n",
       "        vertical-align: middle;\n",
       "    }\n",
       "\n",
       "    .dataframe tbody tr th {\n",
       "        vertical-align: top;\n",
       "    }\n",
       "\n",
       "    .dataframe thead th {\n",
       "        text-align: right;\n",
       "    }\n",
       "</style>\n",
       "<table border=\"1\" class=\"dataframe\">\n",
       "  <thead>\n",
       "    <tr style=\"text-align: right;\">\n",
       "      <th></th>\n",
       "      <th>precipitation</th>\n",
       "    </tr>\n",
       "  </thead>\n",
       "  <tbody>\n",
       "    <tr>\n",
       "      <th>count</th>\n",
       "      <td>2021.000000</td>\n",
       "    </tr>\n",
       "    <tr>\n",
       "      <th>mean</th>\n",
       "      <td>0.177279</td>\n",
       "    </tr>\n",
       "    <tr>\n",
       "      <th>std</th>\n",
       "      <td>0.461190</td>\n",
       "    </tr>\n",
       "    <tr>\n",
       "      <th>min</th>\n",
       "      <td>0.000000</td>\n",
       "    </tr>\n",
       "    <tr>\n",
       "      <th>25%</th>\n",
       "      <td>0.000000</td>\n",
       "    </tr>\n",
       "    <tr>\n",
       "      <th>50%</th>\n",
       "      <td>0.020000</td>\n",
       "    </tr>\n",
       "    <tr>\n",
       "      <th>75%</th>\n",
       "      <td>0.130000</td>\n",
       "    </tr>\n",
       "    <tr>\n",
       "      <th>max</th>\n",
       "      <td>6.700000</td>\n",
       "    </tr>\n",
       "  </tbody>\n",
       "</table>\n",
       "</div>"
      ],
      "text/plain": [
       "       precipitation\n",
       "count    2021.000000\n",
       "mean        0.177279\n",
       "std         0.461190\n",
       "min         0.000000\n",
       "25%         0.000000\n",
       "50%         0.020000\n",
       "75%         0.130000\n",
       "max         6.700000"
      ]
     },
     "execution_count": 13,
     "metadata": {},
     "output_type": "execute_result"
    }
   ],
   "source": [
    "# Use Pandas to calcualte the summary statistics for the precipitation data\n",
    "sorted_df.describe()"
   ]
  },
  {
   "cell_type": "code",
   "execution_count": 14,
   "metadata": {},
   "outputs": [
    {
     "data": {
      "text/plain": [
       "9"
      ]
     },
     "execution_count": 14,
     "metadata": {},
     "output_type": "execute_result"
    }
   ],
   "source": [
    "# Design a query to show how many stations are available in this dataset?\n",
    "session.query(Station.station).distinct().count()"
   ]
  },
  {
   "cell_type": "code",
   "execution_count": 15,
   "metadata": {},
   "outputs": [
    {
     "name": "stdout",
     "output_type": "stream",
     "text": [
      "The station USC00519281 has 2772 rows\n",
      "The station USC00519397 has 2724 rows\n",
      "The station USC00513117 has 2709 rows\n",
      "The station USC00519523 has 2669 rows\n",
      "The station USC00516128 has 2612 rows\n",
      "The station USC00514830 has 2202 rows\n",
      "The station USC00511918 has 1979 rows\n",
      "The station USC00517948 has 1372 rows\n",
      "The station USC00518838 has 511 rows\n",
      "\n",
      "Most active station is USC00519281 and has 2772 rows.\n"
     ]
    }
   ],
   "source": [
    "# What are the most active stations? (i.e. what stations have the most rows)?\n",
    "# List the stations and the counts in descending order.\n",
    "# sel = [Station.name, \n",
    "#        func.count(Measurement.station)]\n",
    "active_stations = session.query(Station.station,func.count(Measurement.station)).\\\n",
    "    filter(Station.station == Measurement.station).group_by(Measurement.station).\\\n",
    "    order_by(func.count(Measurement.station).desc()).all()\n",
    "for row in active_stations:\n",
    "    print(f\"The station {row[0]} has {row[1]} rows\")\n",
    "\n",
    "print(\"\\n\"+f\"Most active station is {active_stations[0][0]} and has {active_stations[0][1]} rows.\")"
   ]
  },
  {
   "cell_type": "code",
   "execution_count": 16,
   "metadata": {},
   "outputs": [
    {
     "name": "stdout",
     "output_type": "stream",
     "text": [
      "The most active station USC00519281 has Lowest Temp.:54.0, Highest Temp.:85.0, and Average Temp.:71.7\n"
     ]
    }
   ],
   "source": [
    "# Using the station id from the previous query, calculate the lowest temperature recorded, \n",
    "# highest temperature recorded, and average temperature of the most active station?\n",
    "asel = [Measurement.station,\n",
    "        func.min(Measurement.tobs),\n",
    "        func.max(Measurement.tobs),\n",
    "        func.avg(Measurement.tobs),\n",
    "        func.max(Measurement.date)\n",
    "      ]\n",
    "actstation_temp = session.query(*asel).filter(Station.station == Measurement.station).group_by(Measurement.station).\\\n",
    "    order_by(func.count(Measurement.station).desc()).first()\n",
    "\n",
    "print(f\"The most active station {actstation_temp[0]} has Lowest Temp.:{actstation_temp[1]},\\\n",
    " Highest Temp.:{actstation_temp[2]}, and Average Temp.:{round(actstation_temp[3],1)}\")"
   ]
  },
  {
   "cell_type": "code",
   "execution_count": null,
   "metadata": {},
   "outputs": [],
   "source": [
    "# Choose the station with the highest number of temperature observations.\n",
    "# Query the last 12 months of temperature observation data for this station and plot the results as a histogram"
   ]
  },
  {
   "cell_type": "code",
   "execution_count": 17,
   "metadata": {},
   "outputs": [
    {
     "name": "stdout",
     "output_type": "stream",
     "text": [
      "Max date for the most active station is :2017-08-18\n"
     ]
    }
   ],
   "source": [
    "# get the max date for the most active station from previous query\n",
    "print(f\"Max date for the most active station is :{actstation_temp[4]}\")\n",
    "#\n",
    "sfrdt = datetime.datetime.strptime(actstation_temp[4], \"%Y-%m-%d\") - datetime.timedelta(days=365)\n",
    "# print(sfrdt)"
   ]
  },
  {
   "cell_type": "code",
   "execution_count": 18,
   "metadata": {},
   "outputs": [
    {
     "data": {
      "image/png": "[encoded data removed]",
      "text/plain": [
       "<Figure size 576x504 with 1 Axes>"
      ]
     },
     "metadata": {},
     "output_type": "display_data"
    }
   ],
   "source": [
    "# Query the last 12 months of temperature observation data for the most active station\n",
    "results2 = session.query(Measurement.date,Measurement.tobs).\\\n",
    "    filter(Measurement.station == actstation_temp[0]).\\\n",
    "    filter(func.DATE(Measurement.date) >= func.DATE(sfrdt), \\\n",
    "    func.DATE(Measurement.date) <= func.DATE(actstation_temp[4])).all()\n",
    "df = pd.DataFrame(results2)\n",
    "del df['date']\n",
    "pfile = 'histo.png'\n",
    "#\n",
    "#  to plot histogram\n",
    "#\n",
    "fig=plt.figure(figsize=(8, 7))\n",
    "plt.hist(df.tobs,  bins=12, color='#ce185f')\n",
    "plt.legend(df.columns, loc='best')\n",
    "plt.xlabel('Temperature')\n",
    "plt.ylabel('Frequency')\n",
    "plt.title(f\"Last 12 months of temperature for the station {actstation_temp[0]}\")\n",
    "plt.tight_layout()\n",
    "plt.savefig(plot_out_dir + pfile)\n",
    "plt.show()"
   ]
  },
  {
   "cell_type": "markdown",
   "metadata": {},
   "source": [
    "## Bonus Challenge Assignment"
   ]
  },
  {
   "cell_type": "code",
   "execution_count": 19,
   "metadata": {},
   "outputs": [
    {
     "name": "stdout",
     "output_type": "stream",
     "text": [
      "[(62.0, 69.57142857142857, 74.0)]\n"
     ]
    }
   ],
   "source": [
    "# This function called `calc_temps` will accept start date and end date in the format '%Y-%m-%d' \n",
    "# and return the minimum, average, and maximum temperatures for that range of dates\n",
    "def calc_temps(start_date, end_date):\n",
    "    \"\"\"TMIN, TAVG, and TMAX for a list of dates.\n",
    "    \n",
    "    Args:\n",
    "        start_date (string): A date string in the format %Y-%m-%d\n",
    "        end_date (string): A date string in the format %Y-%m-%d\n",
    "        \n",
    "    Returns:\n",
    "        TMIN, TAVE, and TMAX\n",
    "    \"\"\"\n",
    "    \n",
    "    return session.query(func.min(Measurement.tobs), func.avg(Measurement.tobs), func.max(Measurement.tobs)).\\\n",
    "        filter(Measurement.date >= start_date).filter(Measurement.date <= end_date).all()\n",
    "\n",
    "# function usage example\n",
    "print(calc_temps('2012-02-28', '2012-03-05'))"
   ]
  },
  {
   "cell_type": "code",
   "execution_count": 20,
   "metadata": {},
   "outputs": [
    {
     "name": "stdout",
     "output_type": "stream",
     "text": [
      "[(58.0, 74.58889386475593, 87.0)]\n"
     ]
    }
   ],
   "source": [
    "# Use your previous function `calc_temps` to calculate the tmin, tavg, and tmax \n",
    "# for your trip using the previous year's data for those same dates.\n",
    "trip_fdt = '2016-08-22'\n",
    "trip_tdt = '2017-08-22'\n",
    "trip_avg = calc_temps(trip_fdt,trip_tdt)\n",
    "print(trip_avg)"
   ]
  },
  {
   "cell_type": "code",
   "execution_count": 21,
   "metadata": {},
   "outputs": [
    {
     "data": {
      "image/png": "[encoded data removed]",
      "text/plain": [
       "<Figure size 216x504 with 1 Axes>"
      ]
     },
     "metadata": {},
     "output_type": "display_data"
    }
   ],
   "source": [
    "# Plot the results from your previous query as a bar chart. \n",
    "# Use \"Trip Avg Temp\" as your Title\n",
    "# Use the average temperature for the y value\n",
    "# Use the peak-to-peak (tmax-tmin) value as the y error bar (yerr)\n",
    "pfile = 'avg_temp.png'\n",
    "#align='center', alpha=0.5, ecolor='#FF5733',\n",
    "# fig, ax = plt.subplots()\n",
    "# ax.bar(\" \", ypos, yerr=err, capsize=10)\n",
    "# ax.set_ylim(0, ypos+err+10)\n",
    "# ax.set_ylabel(\"Temp (F)\")\n",
    "# # ax.set_xticks(xpos)\n",
    "# ax.set_title(\"Trip Avg Temp\")\n",
    "# ax.yaxis.grid(True)\n",
    "#\n",
    "fig = plt.figure(figsize=(3,7))\n",
    "ypos = trip_avg[0][1]\n",
    "err = trip_avg[0][2]-trip_avg[0][0]\n",
    "# print(ypos, err)\n",
    "wid = 0.2\n",
    "plt.bar(\" \", ypos, yerr=err, capsize=10, alpha=0.8, width=wid,  color='#FFA07A')\n",
    "plt.ylabel(\"Temp (F)\")\n",
    "plt.title(\"Trip Avg Temp\")\n",
    "plt.grid(True)\n",
    "plt.tight_layout()\n",
    "plt.savefig(plot_out_dir + pfile)\n",
    "plt.show()"
   ]
  },
  {
   "cell_type": "code",
   "execution_count": 22,
   "metadata": {},
   "outputs": [
    {
     "name": "stdout",
     "output_type": "stream",
     "text": [
      "Station:USC00516128 Name:MANOA LYON ARBO 785.2, HI US Lat.:21.3331 Lng.:-157.8025 Elev.:152.4 Total Rainfall:148.56\n",
      "Station:USC00519281 Name:WAIHEE 837.5, HI US Lat.:21.45167 Lng.:-157.84888999999998 Elev.:32.9 Total Rainfall:72.35\n",
      "Station:USC00513117 Name:KANEOHE 838.1, HI US Lat.:21.4234 Lng.:-157.8015 Elev.:14.6 Total Rainfall:49.45\n",
      "Station:USC00519523 Name:WAIMANALO EXPERIMENTAL FARM, HI US Lat.:21.33556 Lng.:-157.71139 Elev.:19.5 Total Rainfall:38.33\n",
      "Station:USC00514830 Name:KUALOA RANCH HEADQUARTERS 886.9, HI US Lat.:21.5213 Lng.:-157.8374 Elev.:7.0 Total Rainfall:33.24\n",
      "Station:USC00519397 Name:WAIKIKI 717.2, HI US Lat.:21.2716 Lng.:-157.8168 Elev.:3.0 Total Rainfall:16.49\n",
      "Station:USC00517948 Name:PEARL CITY, HI US Lat.:21.3934 Lng.:-157.9751 Elev.:11.9 Total Rainfall:4.59\n"
     ]
    }
   ],
   "source": [
    "# Calculate the total amount of rainfall per weather station for your trip dates using the previous year's matching dates.\n",
    "# Sort this in descending order by precipitation amount and list the station, name, latitude, longitude, and elevation\n",
    "# tfdt = datetime.datetime.strptime(trip_fdt, \"%Y-%m-%d\")\n",
    "# ttdt = datetime.datetime.strptime(trip_tdt, \"%Y-%m-%d\")\n",
    "rain = [Measurement.station,\n",
    "        Station.name,\n",
    "        Station.latitude,\n",
    "        Station.longitude,\n",
    "        Station.elevation,\n",
    "        func.sum(Measurement.prcp)\n",
    "       ]\n",
    "rain_results = session.query(*rain).filter(Measurement.station == Station.station).\\\n",
    "            filter(func.DATE(Measurement.date) >= func.DATE(trip_fdt), func.DATE(Measurement.date) <= func.DATE(trip_tdt)).\\\n",
    "            group_by(Measurement.station).order_by(func.sum(Measurement.prcp).desc()).all()\n",
    "for row in rain_results:\n",
    "    print(f\"Station:{row.station} Name:{row.name} Lat.:{row.latitude} Lng.:{row.longitude} Elev.:{row.elevation} Total Rainfall:{round(row[5],2)}\")\n"
   ]
  },
  {
   "cell_type": "code",
   "execution_count": 23,
   "metadata": {},
   "outputs": [
    {
     "data": {
      "text/plain": [
       "[(62.0, 69.15384615384616, 77.0)]"
      ]
     },
     "execution_count": 23,
     "metadata": {},
     "output_type": "execute_result"
    }
   ],
   "source": [
    "# Create a query that will calculate the daily normals \n",
    "# (i.e. the averages for tmin, tmax, and tavg for all historic data matching a specific month and day)\n",
    "\n",
    "def daily_normals(date):\n",
    "    \"\"\"Daily Normals.\n",
    "    \n",
    "    Args:\n",
    "        date (str): A date string in the format '%m-%d'\n",
    "        \n",
    "    Returns:\n",
    "        A list of tuples containing the daily normals, tmin, tavg, and tmax\n",
    "    \n",
    "    \"\"\"\n",
    "    \n",
    "    sel = [func.min(Measurement.tobs), func.avg(Measurement.tobs), func.max(Measurement.tobs)]\n",
    "    return session.query(*sel).filter(func.strftime(\"%m-%d\", Measurement.date) == date).all()\n",
    "    \n",
    "daily_normals(\"01-01\")"
   ]
  },
  {
   "cell_type": "code",
   "execution_count": 24,
   "metadata": {},
   "outputs": [],
   "source": [
    "# calculate the daily normals for your trip\n",
    "# push each tuple of calculations into a list called `normals`\n",
    "\n",
    "# Set the start and end date of the trip\n",
    "nsdt = '2018-01-01'\n",
    "nedt = '2018-01-07'\n",
    "nod = datetime.datetime.strptime(nedt, \"%Y-%m-%d\")-datetime.datetime.strptime(nsdt, \"%Y-%m-%d\")\n",
    "# print(nod.days)\n",
    "\n",
    "# Use the start and end date to create a range of dates\n",
    "# \n",
    "dtlist = []\n",
    "for i in range(0, nod.days+1):\n",
    "    ddt = datetime.datetime.strptime(nsdt, \"%Y-%m-%d\") + datetime.timedelta(days = i)\n",
    "    dtlist.append(ddt.strftime('%Y-%m-%d'))\n",
    "# print(dtlist)\n",
    "\n",
    "# # Stip off the year and save a list of %m-%d strings\n",
    "mmdd = []\n",
    "for i in range(0, nod.days+1):\n",
    "    yy,mm,dd = dtlist[i].split('-')\n",
    "    mmdd.append(f\"{mm}-{dd}\")\n",
    "\n",
    "# print(mmdd)\n",
    "# Loop through the list of %m-%d strings and calculate the normals for each date\n",
    "normals = []\n",
    "for i in range(0, nod.days+1):\n",
    "    res = daily_normals(mmdd[i])\n",
    "    normals.append((dtlist[i],res[0][0],res[0][1],res[0][2]))\n",
    "\n",
    "# normals"
   ]
  },
  {
   "cell_type": "code",
   "execution_count": 25,
   "metadata": {},
   "outputs": [
    {
     "data": {
      "text/html": [
       "<div>\n",
       "<style scoped>\n",
       "    .dataframe tbody tr th:only-of-type {\n",
       "        vertical-align: middle;\n",
       "    }\n",
       "\n",
       "    .dataframe tbody tr th {\n",
       "        vertical-align: top;\n",
       "    }\n",
       "\n",
       "    .dataframe thead th {\n",
       "        text-align: right;\n",
       "    }\n",
       "</style>\n",
       "<table border=\"1\" class=\"dataframe\">\n",
       "  <thead>\n",
       "    <tr style=\"text-align: right;\">\n",
       "      <th></th>\n",
       "      <th>tmin</th>\n",
       "      <th>tavg</th>\n",
       "      <th>tmax</th>\n",
       "    </tr>\n",
       "    <tr>\n",
       "      <th>date</th>\n",
       "      <th></th>\n",
       "      <th></th>\n",
       "      <th></th>\n",
       "    </tr>\n",
       "  </thead>\n",
       "  <tbody>\n",
       "    <tr>\n",
       "      <th>2018-01-01</th>\n",
       "      <td>62.0</td>\n",
       "      <td>69.153846</td>\n",
       "      <td>77.0</td>\n",
       "    </tr>\n",
       "    <tr>\n",
       "      <th>2018-01-02</th>\n",
       "      <td>60.0</td>\n",
       "      <td>69.396226</td>\n",
       "      <td>77.0</td>\n",
       "    </tr>\n",
       "    <tr>\n",
       "      <th>2018-01-03</th>\n",
       "      <td>62.0</td>\n",
       "      <td>68.909091</td>\n",
       "      <td>77.0</td>\n",
       "    </tr>\n",
       "    <tr>\n",
       "      <th>2018-01-04</th>\n",
       "      <td>58.0</td>\n",
       "      <td>70.000000</td>\n",
       "      <td>76.0</td>\n",
       "    </tr>\n",
       "    <tr>\n",
       "      <th>2018-01-05</th>\n",
       "      <td>56.0</td>\n",
       "      <td>67.964286</td>\n",
       "      <td>76.0</td>\n",
       "    </tr>\n",
       "  </tbody>\n",
       "</table>\n",
       "</div>"
      ],
      "text/plain": [
       "            tmin       tavg  tmax\n",
       "date                             \n",
       "2018-01-01  62.0  69.153846  77.0\n",
       "2018-01-02  60.0  69.396226  77.0\n",
       "2018-01-03  62.0  68.909091  77.0\n",
       "2018-01-04  58.0  70.000000  76.0\n",
       "2018-01-05  56.0  67.964286  76.0"
      ]
     },
     "execution_count": 25,
     "metadata": {},
     "output_type": "execute_result"
    }
   ],
   "source": [
    "# Load the previous query results into a Pandas DataFrame and add the `trip_dates` range as the `date` index\n",
    "\n",
    "df = pd.DataFrame(normals, columns=['date','tmin','tavg','tmax'])\n",
    "# df['date'] = pd.to_datetime(df['date'], format='%Y-%m-%d')\n",
    "df = df.set_index(['date'])\n",
    "df.head()"
   ]
  },
  {
   "cell_type": "code",
   "execution_count": 26,
   "metadata": {},
   "outputs": [
    {
     "data": {
      "image/png": "[encoded data removed]",
      "text/plain": [
       "<Figure size 576x360 with 1 Axes>"
      ]
     },
     "metadata": {},
     "output_type": "display_data"
    }
   ],
   "source": [
    "# Plot the daily normals as an area plot with `stacked=False`\n",
    "# fig = plt.figure()\n",
    "pfile = \"normals.png\"\n",
    "#\n",
    "df.plot(kind='area', stacked=False, alpha=0.3, rot=90, figsize=(8,5))\n",
    "plt.xlabel('Date')\n",
    "plt.legend(loc='lower center')\n",
    "plt.ylabel('Temperature')\n",
    "plt.grid(True)\n",
    "plt.tight_layout()\n",
    "plt.savefig(plot_out_dir + pfile)\n",
    "plt.show()"
   ]
  },
  {
   "cell_type": "code",
   "execution_count": 27,
   "metadata": {},
   "outputs": [
    {
     "name": "stdout",
     "output_type": "stream",
     "text": [
      "June Average Temperature : 74.94 and December Average Temperature : 71.04\n",
      "Jund Record Counts: 1700 and December Record Counts: 1517\n"
     ]
    }
   ],
   "source": [
    "# Temperature Analysis I\n",
    "#\n",
    "# Is there a meaningful difference between the temperature in, for example, June and December?\n",
    "#\n",
    "jmonth = '06'\n",
    "dmonth = '12'\n",
    "june_avgtemp = session.query(func.avg(Measurement.tobs)).\\\n",
    "                    filter(func.strftime(\"%m\", Measurement.date) == jmonth).first()\n",
    "dec_avgtemp = session.query(func.avg(Measurement.tobs)).\\\n",
    "                    filter(func.strftime(\"%m\", Measurement.date) == dmonth).first()\n",
    "jtemp = session.query(Measurement.tobs).\\\n",
    "                    filter(func.strftime(\"%m\", Measurement.date) == jmonth).\\\n",
    "                    order_by(Measurement.tobs).all()\n",
    "dtemp = session.query(Measurement.tobs).\\\n",
    "                    filter(func.strftime(\"%m\", Measurement.date) == dmonth).\\\n",
    "                    order_by(Measurement.tobs).all()\n",
    "print(f\"June Average Temperature : {round(june_avgtemp[0],2)} and December Average Temperature : {round(dec_avgtemp[0],2)}\")\n",
    "print(f\"Jund Record Counts: {len(jtemp)} and December Record Counts: {len(dtemp)}\")"
   ]
  },
  {
   "cell_type": "code",
   "execution_count": 28,
   "metadata": {},
   "outputs": [],
   "source": [
    "# data cleaning for t-test analysis...\n",
    "import random\n",
    "june_data = list(np.ravel(jtemp))\n",
    "dec_data = list(np.ravel(dtemp))\n",
    "jun_sample = random.sample(june_data, 1000)\n",
    "dec_sample = random.sample(dec_data, 1000)\n",
    "jdata = np.sort(np.asarray(jun_sample))\n",
    "ddata = np.sort(np.asarray(dec_sample))"
   ]
  },
  {
   "cell_type": "code",
   "execution_count": 29,
   "metadata": {},
   "outputs": [
    {
     "data": {
      "image/png": "[encoded data removed]",
      "text/plain": [
       "<Figure size 640x480 with 3 Axes>"
      ]
     },
     "metadata": {},
     "output_type": "display_data"
    }
   ],
   "source": [
    "# Plot the Data\n",
    "pfile = 'ttest.png'\n",
    "style.use('default')\n",
    "#\n",
    "from scipy.stats import norm\n",
    "label = ['June Temp.','Dec. Temp.']\n",
    "\n",
    "# plot to see t-distribution using probability density function (pdf)\n",
    "plt.subplot(3, 1, 1)\n",
    "plt.plot(jdata, norm.pdf(jdata, jdata.mean(), jdata.std()))\n",
    "plt.plot(ddata, norm.pdf(ddata, ddata.mean(), ddata.std()))\n",
    "plt.legend(['June Temp.','Dec. Temp.'])\n",
    "\n",
    "# Scatter Plot of Data\n",
    "plt.subplot(3, 1, 2)\n",
    "plt.scatter(range(len(jun_sample)), jun_sample, label='June Temp')\n",
    "plt.scatter(range(len(dec_sample)), dec_sample, label='Dec. Temp')\n",
    "plt.legend()\n",
    "\n",
    "#Histogram plot of Data\n",
    "plt.subplot(3, 1, 3)\n",
    "plt.hist(jdata, 10, density=True, alpha=0.7, label='June Temp')\n",
    "plt.hist(ddata, 10, density=True, alpha=0.7, label='Dec. Temp')\n",
    "plt.axvline(jdata.mean(), color='k', linestyle='dashed', linewidth=1)\n",
    "plt.axvline(ddata.mean(), color='k', linestyle='dashed', linewidth=1)\n",
    "plt.legend()\n",
    "plt.tight_layout()\n",
    "plt.savefig(plot_out_dir + pfile)\n",
    "plt.show()"
   ]
  },
  {
   "cell_type": "code",
   "execution_count": 30,
   "metadata": {},
   "outputs": [
    {
     "data": {
      "text/plain": [
       "Ttest_relResult(statistic=25.105950702114637, pvalue=3.1250389570416175e-108)"
      ]
     },
     "execution_count": 30,
     "metadata": {},
     "output_type": "execute_result"
    }
   ],
   "source": [
    "import scipy.stats as stats\n",
    "stats.ttest_rel(jun_sample, dec_sample)"
   ]
  },
  {
   "cell_type": "markdown",
   "metadata": {},
   "source": [
    "#### Note-1: Based on the result of a hypothesis test, the data support the null hypothesis which means there is no significant difference in the means for the June and December temperatures.\n",
    "\n",
    "#### Note-2: I used paired t-test because both samples come from the same data collection and we are comparing the means of it under two different times - where as with an unpaired t-test you'd compare the means of unrelated groups."
   ]
  },
  {
   "cell_type": "code",
   "execution_count": null,
   "metadata": {},
   "outputs": [],
   "source": []
  }
 ],
 "metadata": {
  "kernel_info": {
   "name": "python3"
  },
  "kernelspec": {
   "display_name": "Python [conda env:PythonData] *",
   "language": "python",
   "name": "conda-env-PythonData-py"
  },
  "language_info": {
   "codemirror_mode": {
    "name": "ipython",
    "version": 3
   },
   "file_extension": ".py",
   "mimetype": "text/x-python",
   "name": "python",
   "nbconvert_exporter": "python",
   "pygments_lexer": "ipython3",
   "version": "3.6.10"
  },
  "nteract": {
   "version": "0.12.3"
  },
  "varInspector": {
   "cols": {
    "lenName": 16,
    "lenType": 16,
    "lenVar": 40
   },
   "kernels_config": {
    "python": {
     "delete_cmd_postfix": "",
     "delete_cmd_prefix": "del ",
     "library": "var_list.py",
     "varRefreshCmd": "print(var_dic_list())"
    },
    "r": {
     "delete_cmd_postfix": ") ",
     "delete_cmd_prefix": "rm(",
     "library": "var_list.r",
     "varRefreshCmd": "cat(var_dic_list()) "
    }
   },
   "types_to_exclude": [
    "module",
    "function",
    "builtin_function_or_method",
    "instance",
    "_Feature"
   ],
   "window_display": false
  }
 },
 "nbformat": 4,
 "nbformat_minor": 2
}
